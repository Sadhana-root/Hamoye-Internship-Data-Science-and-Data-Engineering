{
 "cells": [
  {
   "cell_type": "code",
   "execution_count": 1,
   "id": "de06fad1",
   "metadata": {},
   "outputs": [],
   "source": [
    "import numpy as np\n",
    "import pandas as pd\n"
   ]
  },
  {
   "cell_type": "code",
   "execution_count": 2,
   "id": "0ff7ba0c",
   "metadata": {},
   "outputs": [],
   "source": [
    "dataset_1= pd.read_csv(r\"C:\\Users\\SADHANA\\Downloads\\FoodBalanceSheets_E_Africa_NOFLAG.csv\",encoding=\"latin-1\")"
   ]
  },
  {
   "cell_type": "code",
   "execution_count": 3,
   "id": "3c1c2168",
   "metadata": {},
   "outputs": [
    {
     "data": {
      "text/html": [
       "<div>\n",
       "<style scoped>\n",
       "    .dataframe tbody tr th:only-of-type {\n",
       "        vertical-align: middle;\n",
       "    }\n",
       "\n",
       "    .dataframe tbody tr th {\n",
       "        vertical-align: top;\n",
       "    }\n",
       "\n",
       "    .dataframe thead th {\n",
       "        text-align: right;\n",
       "    }\n",
       "</style>\n",
       "<table border=\"1\" class=\"dataframe\">\n",
       "  <thead>\n",
       "    <tr style=\"text-align: right;\">\n",
       "      <th></th>\n",
       "      <th>Area Code</th>\n",
       "      <th>Area</th>\n",
       "      <th>Item Code</th>\n",
       "      <th>Item</th>\n",
       "      <th>Element Code</th>\n",
       "      <th>Element</th>\n",
       "      <th>Unit</th>\n",
       "      <th>Y2014</th>\n",
       "      <th>Y2015</th>\n",
       "      <th>Y2016</th>\n",
       "      <th>Y2017</th>\n",
       "      <th>Y2018</th>\n",
       "    </tr>\n",
       "  </thead>\n",
       "  <tbody>\n",
       "    <tr>\n",
       "      <th>0</th>\n",
       "      <td>4</td>\n",
       "      <td>Algeria</td>\n",
       "      <td>2501</td>\n",
       "      <td>Population</td>\n",
       "      <td>511</td>\n",
       "      <td>Total Population - Both sexes</td>\n",
       "      <td>1000 persons</td>\n",
       "      <td>38924.00</td>\n",
       "      <td>39728.00</td>\n",
       "      <td>40551.00</td>\n",
       "      <td>41389.00</td>\n",
       "      <td>42228.00</td>\n",
       "    </tr>\n",
       "    <tr>\n",
       "      <th>1</th>\n",
       "      <td>4</td>\n",
       "      <td>Algeria</td>\n",
       "      <td>2501</td>\n",
       "      <td>Population</td>\n",
       "      <td>5301</td>\n",
       "      <td>Domestic supply quantity</td>\n",
       "      <td>1000 tonnes</td>\n",
       "      <td>0.00</td>\n",
       "      <td>0.00</td>\n",
       "      <td>0.00</td>\n",
       "      <td>0.00</td>\n",
       "      <td>0.00</td>\n",
       "    </tr>\n",
       "    <tr>\n",
       "      <th>2</th>\n",
       "      <td>4</td>\n",
       "      <td>Algeria</td>\n",
       "      <td>2901</td>\n",
       "      <td>Grand Total</td>\n",
       "      <td>664</td>\n",
       "      <td>Food supply (kcal/capita/day)</td>\n",
       "      <td>kcal/capita/day</td>\n",
       "      <td>3377.00</td>\n",
       "      <td>3379.00</td>\n",
       "      <td>3372.00</td>\n",
       "      <td>3341.00</td>\n",
       "      <td>3322.00</td>\n",
       "    </tr>\n",
       "    <tr>\n",
       "      <th>3</th>\n",
       "      <td>4</td>\n",
       "      <td>Algeria</td>\n",
       "      <td>2901</td>\n",
       "      <td>Grand Total</td>\n",
       "      <td>674</td>\n",
       "      <td>Protein supply quantity (g/capita/day)</td>\n",
       "      <td>g/capita/day</td>\n",
       "      <td>94.90</td>\n",
       "      <td>94.35</td>\n",
       "      <td>94.72</td>\n",
       "      <td>92.82</td>\n",
       "      <td>91.83</td>\n",
       "    </tr>\n",
       "    <tr>\n",
       "      <th>4</th>\n",
       "      <td>4</td>\n",
       "      <td>Algeria</td>\n",
       "      <td>2901</td>\n",
       "      <td>Grand Total</td>\n",
       "      <td>684</td>\n",
       "      <td>Fat supply quantity (g/capita/day)</td>\n",
       "      <td>g/capita/day</td>\n",
       "      <td>80.06</td>\n",
       "      <td>79.36</td>\n",
       "      <td>77.40</td>\n",
       "      <td>80.19</td>\n",
       "      <td>77.28</td>\n",
       "    </tr>\n",
       "    <tr>\n",
       "      <th>...</th>\n",
       "      <td>...</td>\n",
       "      <td>...</td>\n",
       "      <td>...</td>\n",
       "      <td>...</td>\n",
       "      <td>...</td>\n",
       "      <td>...</td>\n",
       "      <td>...</td>\n",
       "      <td>...</td>\n",
       "      <td>...</td>\n",
       "      <td>...</td>\n",
       "      <td>...</td>\n",
       "      <td>...</td>\n",
       "    </tr>\n",
       "    <tr>\n",
       "      <th>60938</th>\n",
       "      <td>181</td>\n",
       "      <td>Zimbabwe</td>\n",
       "      <td>2899</td>\n",
       "      <td>Miscellaneous</td>\n",
       "      <td>5142</td>\n",
       "      <td>Food</td>\n",
       "      <td>1000 tonnes</td>\n",
       "      <td>42.00</td>\n",
       "      <td>46.00</td>\n",
       "      <td>33.00</td>\n",
       "      <td>19.00</td>\n",
       "      <td>16.00</td>\n",
       "    </tr>\n",
       "    <tr>\n",
       "      <th>60939</th>\n",
       "      <td>181</td>\n",
       "      <td>Zimbabwe</td>\n",
       "      <td>2899</td>\n",
       "      <td>Miscellaneous</td>\n",
       "      <td>645</td>\n",
       "      <td>Food supply quantity (kg/capita/yr)</td>\n",
       "      <td>kg</td>\n",
       "      <td>3.06</td>\n",
       "      <td>3.33</td>\n",
       "      <td>2.35</td>\n",
       "      <td>1.33</td>\n",
       "      <td>1.08</td>\n",
       "    </tr>\n",
       "    <tr>\n",
       "      <th>60940</th>\n",
       "      <td>181</td>\n",
       "      <td>Zimbabwe</td>\n",
       "      <td>2899</td>\n",
       "      <td>Miscellaneous</td>\n",
       "      <td>664</td>\n",
       "      <td>Food supply (kcal/capita/day)</td>\n",
       "      <td>kcal/capita/day</td>\n",
       "      <td>3.00</td>\n",
       "      <td>4.00</td>\n",
       "      <td>3.00</td>\n",
       "      <td>1.00</td>\n",
       "      <td>1.00</td>\n",
       "    </tr>\n",
       "    <tr>\n",
       "      <th>60941</th>\n",
       "      <td>181</td>\n",
       "      <td>Zimbabwe</td>\n",
       "      <td>2899</td>\n",
       "      <td>Miscellaneous</td>\n",
       "      <td>674</td>\n",
       "      <td>Protein supply quantity (g/capita/day)</td>\n",
       "      <td>g/capita/day</td>\n",
       "      <td>0.10</td>\n",
       "      <td>0.11</td>\n",
       "      <td>0.08</td>\n",
       "      <td>0.04</td>\n",
       "      <td>0.04</td>\n",
       "    </tr>\n",
       "    <tr>\n",
       "      <th>60942</th>\n",
       "      <td>181</td>\n",
       "      <td>Zimbabwe</td>\n",
       "      <td>2899</td>\n",
       "      <td>Miscellaneous</td>\n",
       "      <td>684</td>\n",
       "      <td>Fat supply quantity (g/capita/day)</td>\n",
       "      <td>g/capita/day</td>\n",
       "      <td>0.04</td>\n",
       "      <td>0.05</td>\n",
       "      <td>0.03</td>\n",
       "      <td>0.02</td>\n",
       "      <td>0.01</td>\n",
       "    </tr>\n",
       "  </tbody>\n",
       "</table>\n",
       "<p>60943 rows × 12 columns</p>\n",
       "</div>"
      ],
      "text/plain": [
       "       Area Code      Area  Item Code           Item  Element Code  \\\n",
       "0              4   Algeria       2501     Population           511   \n",
       "1              4   Algeria       2501     Population          5301   \n",
       "2              4   Algeria       2901    Grand Total           664   \n",
       "3              4   Algeria       2901    Grand Total           674   \n",
       "4              4   Algeria       2901    Grand Total           684   \n",
       "...          ...       ...        ...            ...           ...   \n",
       "60938        181  Zimbabwe       2899  Miscellaneous          5142   \n",
       "60939        181  Zimbabwe       2899  Miscellaneous           645   \n",
       "60940        181  Zimbabwe       2899  Miscellaneous           664   \n",
       "60941        181  Zimbabwe       2899  Miscellaneous           674   \n",
       "60942        181  Zimbabwe       2899  Miscellaneous           684   \n",
       "\n",
       "                                      Element             Unit     Y2014  \\\n",
       "0               Total Population - Both sexes     1000 persons  38924.00   \n",
       "1                    Domestic supply quantity      1000 tonnes      0.00   \n",
       "2               Food supply (kcal/capita/day)  kcal/capita/day   3377.00   \n",
       "3      Protein supply quantity (g/capita/day)     g/capita/day     94.90   \n",
       "4          Fat supply quantity (g/capita/day)     g/capita/day     80.06   \n",
       "...                                       ...              ...       ...   \n",
       "60938                                    Food      1000 tonnes     42.00   \n",
       "60939     Food supply quantity (kg/capita/yr)               kg      3.06   \n",
       "60940           Food supply (kcal/capita/day)  kcal/capita/day      3.00   \n",
       "60941  Protein supply quantity (g/capita/day)     g/capita/day      0.10   \n",
       "60942      Fat supply quantity (g/capita/day)     g/capita/day      0.04   \n",
       "\n",
       "          Y2015     Y2016     Y2017     Y2018  \n",
       "0      39728.00  40551.00  41389.00  42228.00  \n",
       "1          0.00      0.00      0.00      0.00  \n",
       "2       3379.00   3372.00   3341.00   3322.00  \n",
       "3         94.35     94.72     92.82     91.83  \n",
       "4         79.36     77.40     80.19     77.28  \n",
       "...         ...       ...       ...       ...  \n",
       "60938     46.00     33.00     19.00     16.00  \n",
       "60939      3.33      2.35      1.33      1.08  \n",
       "60940      4.00      3.00      1.00      1.00  \n",
       "60941      0.11      0.08      0.04      0.04  \n",
       "60942      0.05      0.03      0.02      0.01  \n",
       "\n",
       "[60943 rows x 12 columns]"
      ]
     },
     "execution_count": 3,
     "metadata": {},
     "output_type": "execute_result"
    }
   ],
   "source": [
    "dataset_1"
   ]
  },
  {
   "cell_type": "code",
   "execution_count": 4,
   "id": "ae599b40",
   "metadata": {},
   "outputs": [
    {
     "data": {
      "text/html": [
       "<div>\n",
       "<style scoped>\n",
       "    .dataframe tbody tr th:only-of-type {\n",
       "        vertical-align: middle;\n",
       "    }\n",
       "\n",
       "    .dataframe tbody tr th {\n",
       "        vertical-align: top;\n",
       "    }\n",
       "\n",
       "    .dataframe thead th {\n",
       "        text-align: right;\n",
       "    }\n",
       "</style>\n",
       "<table border=\"1\" class=\"dataframe\">\n",
       "  <thead>\n",
       "    <tr style=\"text-align: right;\">\n",
       "      <th></th>\n",
       "      <th>Area Code</th>\n",
       "      <th>Item Code</th>\n",
       "      <th>Element Code</th>\n",
       "      <th>Y2014</th>\n",
       "      <th>Y2015</th>\n",
       "      <th>Y2016</th>\n",
       "      <th>Y2017</th>\n",
       "      <th>Y2018</th>\n",
       "    </tr>\n",
       "  </thead>\n",
       "  <tbody>\n",
       "    <tr>\n",
       "      <th>count</th>\n",
       "      <td>60943.000000</td>\n",
       "      <td>60943.000000</td>\n",
       "      <td>60943.000000</td>\n",
       "      <td>59354.000000</td>\n",
       "      <td>59395.000000</td>\n",
       "      <td>59408.000000</td>\n",
       "      <td>59437.000000</td>\n",
       "      <td>59507.000000</td>\n",
       "    </tr>\n",
       "    <tr>\n",
       "      <th>mean</th>\n",
       "      <td>134.265576</td>\n",
       "      <td>2687.176706</td>\n",
       "      <td>3814.856456</td>\n",
       "      <td>134.196282</td>\n",
       "      <td>135.235966</td>\n",
       "      <td>136.555222</td>\n",
       "      <td>140.917765</td>\n",
       "      <td>143.758381</td>\n",
       "    </tr>\n",
       "    <tr>\n",
       "      <th>std</th>\n",
       "      <td>72.605709</td>\n",
       "      <td>146.055739</td>\n",
       "      <td>2212.007033</td>\n",
       "      <td>1567.663696</td>\n",
       "      <td>1603.403984</td>\n",
       "      <td>1640.007194</td>\n",
       "      <td>1671.862359</td>\n",
       "      <td>1710.782658</td>\n",
       "    </tr>\n",
       "    <tr>\n",
       "      <th>min</th>\n",
       "      <td>4.000000</td>\n",
       "      <td>2501.000000</td>\n",
       "      <td>511.000000</td>\n",
       "      <td>-1796.000000</td>\n",
       "      <td>-3161.000000</td>\n",
       "      <td>-3225.000000</td>\n",
       "      <td>-1582.000000</td>\n",
       "      <td>-3396.000000</td>\n",
       "    </tr>\n",
       "    <tr>\n",
       "      <th>25%</th>\n",
       "      <td>74.000000</td>\n",
       "      <td>2562.000000</td>\n",
       "      <td>684.000000</td>\n",
       "      <td>0.000000</td>\n",
       "      <td>0.000000</td>\n",
       "      <td>0.000000</td>\n",
       "      <td>0.000000</td>\n",
       "      <td>0.000000</td>\n",
       "    </tr>\n",
       "    <tr>\n",
       "      <th>50%</th>\n",
       "      <td>136.000000</td>\n",
       "      <td>2630.000000</td>\n",
       "      <td>5142.000000</td>\n",
       "      <td>0.090000</td>\n",
       "      <td>0.080000</td>\n",
       "      <td>0.080000</td>\n",
       "      <td>0.100000</td>\n",
       "      <td>0.070000</td>\n",
       "    </tr>\n",
       "    <tr>\n",
       "      <th>75%</th>\n",
       "      <td>195.000000</td>\n",
       "      <td>2775.000000</td>\n",
       "      <td>5511.000000</td>\n",
       "      <td>8.340000</td>\n",
       "      <td>8.460000</td>\n",
       "      <td>8.430000</td>\n",
       "      <td>9.000000</td>\n",
       "      <td>9.000000</td>\n",
       "    </tr>\n",
       "    <tr>\n",
       "      <th>max</th>\n",
       "      <td>276.000000</td>\n",
       "      <td>2961.000000</td>\n",
       "      <td>5911.000000</td>\n",
       "      <td>176405.000000</td>\n",
       "      <td>181137.000000</td>\n",
       "      <td>185960.000000</td>\n",
       "      <td>190873.000000</td>\n",
       "      <td>195875.000000</td>\n",
       "    </tr>\n",
       "  </tbody>\n",
       "</table>\n",
       "</div>"
      ],
      "text/plain": [
       "          Area Code     Item Code  Element Code          Y2014          Y2015  \\\n",
       "count  60943.000000  60943.000000  60943.000000   59354.000000   59395.000000   \n",
       "mean     134.265576   2687.176706   3814.856456     134.196282     135.235966   \n",
       "std       72.605709    146.055739   2212.007033    1567.663696    1603.403984   \n",
       "min        4.000000   2501.000000    511.000000   -1796.000000   -3161.000000   \n",
       "25%       74.000000   2562.000000    684.000000       0.000000       0.000000   \n",
       "50%      136.000000   2630.000000   5142.000000       0.090000       0.080000   \n",
       "75%      195.000000   2775.000000   5511.000000       8.340000       8.460000   \n",
       "max      276.000000   2961.000000   5911.000000  176405.000000  181137.000000   \n",
       "\n",
       "               Y2016          Y2017          Y2018  \n",
       "count   59408.000000   59437.000000   59507.000000  \n",
       "mean      136.555222     140.917765     143.758381  \n",
       "std      1640.007194    1671.862359    1710.782658  \n",
       "min     -3225.000000   -1582.000000   -3396.000000  \n",
       "25%         0.000000       0.000000       0.000000  \n",
       "50%         0.080000       0.100000       0.070000  \n",
       "75%         8.430000       9.000000       9.000000  \n",
       "max    185960.000000  190873.000000  195875.000000  "
      ]
     },
     "execution_count": 4,
     "metadata": {},
     "output_type": "execute_result"
    }
   ],
   "source": [
    "dataset_1.describe()"
   ]
  },
  {
   "cell_type": "code",
   "execution_count": 27,
   "id": "79cef75d",
   "metadata": {},
   "outputs": [
    {
     "data": {
      "text/plain": [
       "(60943, 12)"
      ]
     },
     "execution_count": 27,
     "metadata": {},
     "output_type": "execute_result"
    }
   ],
   "source": [
    "dataset_1.shape"
   ]
  },
  {
   "cell_type": "code",
   "execution_count": 6,
   "id": "28e2203f",
   "metadata": {},
   "outputs": [
    {
     "name": "stdout",
     "output_type": "stream",
     "text": [
      "Total number of unique countries in the dataset: 49\n"
     ]
    }
   ],
   "source": [
    "# Extracting unique countries from the dataset  using the 'Area' column\n",
    "unique_countries = dataset_1['Area'].unique()\n",
    "\n",
    "# Counting the number of unique countries from the dataset\n",
    "total_unique_countries = len(unique_countries)\n",
    "\n",
    "print(\"Total number of unique countries in the dataset:\", total_unique_countries)"
   ]
  },
  {
   "cell_type": "code",
   "execution_count": 10,
   "id": "8d523f8e",
   "metadata": {},
   "outputs": [
    {
     "name": "stdout",
     "output_type": "stream",
     "text": [
      "Year with the highest sum of Stock Variation: Y2018\n"
     ]
    }
   ],
   "source": [
    "# Grouping the data by 'Element' and calculating the sum of 'Stock Variation' for each year\n",
    "grouped_data = dataset_1.groupby('Element')[['Y2014', 'Y2015', 'Y2016', 'Y2017', 'Y2018']].sum()\n",
    "\n",
    "# Finding the year with the highest sum of Stock Variation\n",
    "max_variation_year = grouped_data.sum(axis=0).idxmax()\n",
    "\n",
    "print(\"Year with the highest sum of Stock Variation:\", max_variation_year)\n"
   ]
  },
  {
   "cell_type": "code",
   "execution_count": 11,
   "id": "d3b4194a",
   "metadata": {},
   "outputs": [
    {
     "name": "stdout",
     "output_type": "stream",
     "text": [
      "Year with the highest sum of Stock Variation for each element:\n",
      "Element\n",
      "Domestic supply quantity                  Y2018\n",
      "Export Quantity                           Y2017\n",
      "Fat supply quantity (g/capita/day)        Y2018\n",
      "Feed                                      Y2018\n",
      "Food                                      Y2018\n",
      "Food supply (kcal/capita/day)             Y2018\n",
      "Food supply quantity (kg/capita/yr)       Y2014\n",
      "Import Quantity                           Y2017\n",
      "Losses                                    Y2018\n",
      "Other uses (non-food)                     Y2017\n",
      "Processing                                Y2018\n",
      "Production                                Y2018\n",
      "Protein supply quantity (g/capita/day)    Y2017\n",
      "Residuals                                 Y2016\n",
      "Seed                                      Y2018\n",
      "Stock Variation                           Y2014\n",
      "Total Population - Both sexes             Y2018\n",
      "Tourist consumption                       Y2014\n",
      "dtype: object\n"
     ]
    }
   ],
   "source": [
    "# Grouping the data by 'Element' and calculating the sum of 'Stock Variation' for each year\n",
    "grouped_data = dataset_1.groupby('Element')[['Y2014', 'Y2015', 'Y2016', 'Y2017', 'Y2018']].sum()\n",
    "\n",
    "# Finding the year with the highest sum of Stock Variation for each element\n",
    "max_variation_year_by_element = grouped_data.idxmax(axis=1)\n",
    "\n",
    "print(\"Year with the highest sum of Stock Variation for each element:\")\n",
    "print(max_variation_year_by_element)\n"
   ]
  },
  {
   "cell_type": "code",
   "execution_count": 12,
   "id": "eba75679",
   "metadata": {},
   "outputs": [
    {
     "name": "stdout",
     "output_type": "stream",
     "text": [
      "Area with the highest sum in 2017: Nigeria\n"
     ]
    }
   ],
   "source": [
    "# Selecting columns 'Y2017' and 'Area'\n",
    "selected_data = dataset_1[['Y2017', 'Area']]\n",
    "\n",
    "# Performing a groupby operation on 'Area' and calculating the sum of 'Y2017' for each area\n",
    "grouped_data = selected_data.groupby('Area').sum()\n",
    "\n",
    "# Finding the area with the highest sum in 2017\n",
    "area_highest_sum_2017 = grouped_data['Y2017'].idxmax()\n",
    "\n",
    "print(\"Area with the highest sum in 2017:\", area_highest_sum_2017)\n"
   ]
  },
  {
   "cell_type": "code",
   "execution_count": 13,
   "id": "5bd38a95",
   "metadata": {},
   "outputs": [
    {
     "name": "stdout",
     "output_type": "stream",
     "text": [
      "Year with the least correlation with 'Element Code': Y2016\n"
     ]
    }
   ],
   "source": [
    "# Calculate the correlation between 'Element Code' and each year column\n",
    "correlation_with_element_code = dataset_1[['Element Code', 'Y2014', 'Y2015', 'Y2016', 'Y2017', 'Y2018']].corr()['Element Code']\n",
    "\n",
    "# Exclude 'Element Code' from the calculation\n",
    "correlation_with_element_code = correlation_with_element_code.drop('Element Code')\n",
    "\n",
    "# Find the year with the least correlation\n",
    "least_correlated_year = correlation_with_element_code.idxmin()\n",
    "\n",
    "print(\"Year with the least correlation with 'Element Code':\", least_correlated_year)\n"
   ]
  },
  {
   "cell_type": "code",
   "execution_count": 14,
   "id": "cf8d416a",
   "metadata": {},
   "outputs": [
    {
     "name": "stdout",
     "output_type": "stream",
     "text": [
      "Total sum of Processing in 2017: 292836.0\n"
     ]
    }
   ],
   "source": [
    "# Grouping the data by 'Element' and calculating the sum of 'Processing' in 2017\n",
    "grouped_data = dataset_1[dataset_1['Element'] == 'Processing'].groupby('Element')['Y2017'].sum()\n",
    "\n",
    "# Extracting the total sum of 'Processing' in 2017\n",
    "total_processing_2017 = grouped_data.values[0] if not grouped_data.empty else 0\n",
    "\n",
    "print(\"Total sum of Processing in 2017:\", total_processing_2017)\n"
   ]
  },
  {
   "cell_type": "code",
   "execution_count": 15,
   "id": "11e87e12",
   "metadata": {},
   "outputs": [
    {
     "name": "stdout",
     "output_type": "stream",
     "text": [
      "Mean for the year 2017: 140.92\n",
      "Standard deviation for the year 2017: 1671.86\n"
     ]
    }
   ],
   "source": [
    "# Extracting data for the year 2017\n",
    "data_2017 = dataset_1['Y2017']\n",
    "\n",
    "# Calculating the mean and standard deviation for the year 2017\n",
    "mean_2017 = data_2017.mean()\n",
    "std_dev_2017 = data_2017.std()\n",
    "\n",
    "# Rounding the mean and standard deviation to two decimal places\n",
    "mean_2017_rounded = round(mean_2017, 2)\n",
    "std_dev_2017_rounded = round(std_dev_2017, 2)\n",
    "\n",
    "print(\"Mean for the year 2017:\", mean_2017_rounded)\n",
    "print(\"Standard deviation for the year 2017:\", std_dev_2017_rounded)\n"
   ]
  },
  {
   "cell_type": "code",
   "execution_count": 19,
   "id": "6e8005e4",
   "metadata": {},
   "outputs": [
    {
     "data": {
      "text/plain": [
       "Kenya                          1560\n",
       "Egypt                          1488\n",
       "Nigeria                        1474\n",
       "Côte d'Ivoire                  1467\n",
       "Senegal                        1462\n",
       "Cameroon                       1460\n",
       "Uganda                         1458\n",
       "Zambia                         1451\n",
       "Malawi                         1447\n",
       "Ethiopia                       1447\n",
       "Madagascar                     1439\n",
       "Mozambique                     1427\n",
       "Rwanda                         1426\n",
       "Angola                         1424\n",
       "United Republic of Tanzania    1419\n",
       "Congo                          1413\n",
       "Guinea                         1410\n",
       "Burkina Faso                   1409\n",
       "Niger                          1403\n",
       "South Africa                   1399\n",
       "Zimbabwe                       1393\n",
       "Morocco                        1393\n",
       "Mauritius                      1378\n",
       "Botswana                       1378\n",
       "Ghana                          1354\n",
       "Central African Republic       1344\n",
       "Chad                           1343\n",
       "Tunisia                        1338\n",
       "Sudan                          1316\n",
       "Algeria                        1313\n",
       "Togo                           1294\n",
       "Mali                           1293\n",
       "Benin                          1285\n",
       "Eswatini                       1284\n",
       "Namibia                        1283\n",
       "Cabo Verde                     1260\n",
       "Gabon                          1245\n",
       "Sierra Leone                   1242\n",
       "Liberia                        1206\n",
       "Mauritania                     1195\n",
       "Sao Tome and Principe          1177\n",
       "Gambia                         1168\n",
       "Lesotho                        1150\n",
       "Guinea-Bissau                  1128\n",
       "Djibouti                       1095\n",
       "Seychelles                       68\n",
       "Sudan (former)                   53\n",
       "Comoros                          45\n",
       "Ethiopia PDR                     39\n",
       "Name: Area, dtype: int64"
      ]
     },
     "execution_count": 19,
     "metadata": {},
     "output_type": "execute_result"
    }
   ],
   "source": [
    "dataset_1['Area'].value_counts()"
   ]
  },
  {
   "cell_type": "code",
   "execution_count": 22,
   "id": "85c508bc",
   "metadata": {},
   "outputs": [
    {
     "data": {
      "text/plain": [
       "Domestic supply quantity                  5295\n",
       "Import Quantity                           5139\n",
       "Protein supply quantity (g/capita/day)    5023\n",
       "Fat supply quantity (g/capita/day)        5023\n",
       "Food supply (kcal/capita/day)             5014\n",
       "Food                                      4941\n",
       "Food supply quantity (kg/capita/yr)       4905\n",
       "Residuals                                 4655\n",
       "Export Quantity                           4403\n",
       "Stock Variation                           4232\n",
       "Production                                3881\n",
       "Processing                                2010\n",
       "Losses                                    2009\n",
       "Other uses (non-food)                     1732\n",
       "Feed                                      1319\n",
       "Seed                                       762\n",
       "Tourist consumption                        555\n",
       "Total Population - Both sexes               45\n",
       "Name: Element, dtype: int64"
      ]
     },
     "execution_count": 22,
     "metadata": {},
     "output_type": "execute_result"
    }
   ],
   "source": [
    "dataset_1['Element'].value_counts()"
   ]
  },
  {
   "cell_type": "code",
   "execution_count": 23,
   "id": "fa1b9b51",
   "metadata": {},
   "outputs": [
    {
     "name": "stdout",
     "output_type": "stream",
     "text": [
      "Total protein supply quantity in Madagascar in 2015: 173.04999999999998\n"
     ]
    }
   ],
   "source": [
    "df=dataset_1.copy()\n",
    "# Filter the dataset for Madagascar and protein supply quantity for 2015\n",
    "madagascar_protein_2015 = df[(df['Area'] == 'Madagascar') & (df['Element'] == 'Protein supply quantity (g/capita/day)')]['Y2015']\n",
    "\n",
    "# Calculate the total protein supply quantity in Madagascar in 2015\n",
    "total_protein_supply_madagascar_2015 = madagascar_protein_2015.sum()\n",
    "\n",
    "print(\"Total protein supply quantity in Madagascar in 2015:\", total_protein_supply_madagascar_2015)\n"
   ]
  },
  {
   "cell_type": "code",
   "execution_count": 24,
   "id": "409600ef",
   "metadata": {},
   "outputs": [
    {
     "name": "stdout",
     "output_type": "stream",
     "text": [
      "Total sum of Wine produced in 2015: 4251.81\n",
      "Total sum of Wine produced in 2018: 4039.32\n"
     ]
    }
   ],
   "source": [
    "# Filter the dataset for 'Wine' item\n",
    "wine_data = df[df['Item'] == 'Wine']\n",
    "\n",
    "# Group by 'Item' and calculate the sum for each year\n",
    "grouped_data = wine_data.groupby('Item')[['Y2015', 'Y2018']].sum()\n",
    "\n",
    "# Extract the total sum of wine produced in 2015 and 2018 respectively\n",
    "total_wine_produced_2015 = grouped_data['Y2015'].values[0] if 'Y2015' in grouped_data.columns else 0\n",
    "total_wine_produced_2018 = grouped_data['Y2018'].values[0] if 'Y2018' in grouped_data.columns else 0\n",
    "\n",
    "print(\"Total sum of Wine produced in 2015:\", total_wine_produced_2015)\n",
    "print(\"Total sum of Wine produced in 2018:\", total_wine_produced_2018)\n"
   ]
  },
  {
   "cell_type": "code",
   "execution_count": 25,
   "id": "1efb6134",
   "metadata": {},
   "outputs": [
    {
     "name": "stdout",
     "output_type": "stream",
     "text": [
      "Total number of missing data in 2014: 1589\n",
      "Percentage of missing data in 2014: 2.607\n"
     ]
    }
   ],
   "source": [
    "# Count the total number of missing values in the 'Y2014' column\n",
    "missing_data_2014_count = df['Y2014'].isnull().sum()\n",
    "\n",
    "# Calculate the total number of entries in the 'Y2014' column\n",
    "total_entries_2014 = len(df['Y2014'])\n",
    "\n",
    "# Calculate the percentage of missing data in 2014\n",
    "percentage_missing_data_2014 = (missing_data_2014_count / total_entries_2014) * 100\n",
    "\n",
    "# Round the percentage to 3 decimal places\n",
    "percentage_missing_data_2014_rounded = round(percentage_missing_data_2014, 3)\n",
    "\n",
    "print(\"Total number of missing data in 2014:\", missing_data_2014_count)\n",
    "print(\"Percentage of missing data in 2014:\", percentage_missing_data_2014_rounded)\n"
   ]
  },
  {
   "cell_type": "code",
   "execution_count": 28,
   "id": "b1b20e2c",
   "metadata": {},
   "outputs": [
    {
     "name": "stdout",
     "output_type": "stream",
     "text": [
      "Area with the 7th lowest sum in 2017: Guinea-Bissau\n"
     ]
    }
   ],
   "source": [
    "# Selecting columns 'Y2017' and 'Area'\n",
    "selected_data = df[['Y2017', 'Area']]\n",
    "\n",
    "# Performing a groupby operation on 'Area' and calculating the sum for 2017\n",
    "grouped_data = selected_data.groupby('Area').sum()\n",
    "\n",
    "# Sorting the grouped data by the sum of 2017 values in ascending order\n",
    "sorted_data = grouped_data.sort_values(by='Y2017')\n",
    "\n",
    "# Finding the area with the 7th lowest sum in 2017\n",
    "seventh_lowest_area = sorted_data.iloc[6].name\n",
    "\n",
    "print(\"Area with the 7th lowest sum in 2017:\", seventh_lowest_area)\n"
   ]
  },
  {
   "cell_type": "code",
   "execution_count": null,
   "id": "00b3cef0",
   "metadata": {},
   "outputs": [],
   "source": []
  }
 ],
 "metadata": {
  "kernelspec": {
   "display_name": "Python 3 (ipykernel)",
   "language": "python",
   "name": "python3"
  },
  "language_info": {
   "codemirror_mode": {
    "name": "ipython",
    "version": 3
   },
   "file_extension": ".py",
   "mimetype": "text/x-python",
   "name": "python",
   "nbconvert_exporter": "python",
   "pygments_lexer": "ipython3",
   "version": "3.9.12"
  }
 },
 "nbformat": 4,
 "nbformat_minor": 5
}
